{
 "cells": [
  {
   "cell_type": "markdown",
   "metadata": {},
   "source": [
    "# CHINMAY SUNIL KARANDIKAR   \n",
    "# CSK180002"
   ]
  },
  {
   "cell_type": "code",
   "execution_count": 1,
   "metadata": {},
   "outputs": [
    {
     "name": "stdout",
     "output_type": "stream",
     "text": [
      "Starting Spark application\n"
     ]
    },
    {
     "data": {
      "text/html": [
       "<table>\n",
       "<tr><th>ID</th><th>YARN Application ID</th><th>Kind</th><th>State</th><th>Spark UI</th><th>Driver log</th><th>Current session?</th></tr><tr><td>0</td><td>application_1588703096101_0008</td><td>pyspark3</td><td>idle</td><td><a target=\"_blank\" href=\"http://ip-172-31-71-248.ec2.internal:20888/proxy/application_1588703096101_0008/\">Link</a></td><td><a target=\"_blank\" href=\"http://ip-172-31-77-8.ec2.internal:8042/node/containerlogs/container_1588703096101_0008_01_000001/livy\">Link</a></td><td>✔</td></tr></table>"
      ],
      "text/plain": [
       "<IPython.core.display.HTML object>"
      ]
     },
     "metadata": {},
     "output_type": "display_data"
    },
    {
     "name": "stdout",
     "output_type": "stream",
     "text": [
      "SparkSession available as 'spark'.\n",
      "<pyspark.sql.session.SparkSession object at 0x7f117ad0bac8>"
     ]
    }
   ],
   "source": [
    "spark"
   ]
  },
  {
   "cell_type": "code",
   "execution_count": 2,
   "metadata": {},
   "outputs": [],
   "source": [
    "from pyspark.sql import functions as F"
   ]
  },
  {
   "cell_type": "code",
   "execution_count": 3,
   "metadata": {},
   "outputs": [],
   "source": [
    "# Load Data Set\n",
    "df = spark.read\\\n",
    "          .option(\"header\", \"true\")\\\n",
    "          .option(\"inferSchema\", \"true\")\\\n",
    "          .option(\"basePath\", \"hdfs:///hive/amazon-reviews-pds/parquet/\")\\\n",
    "          .parquet(\"hdfs:///hive/amazon-reviews-pds/parquet/*\")"
   ]
  },
  {
   "cell_type": "code",
   "execution_count": 4,
   "metadata": {},
   "outputs": [
    {
     "name": "stdout",
     "output_type": "stream",
     "text": [
      "root\n",
      " |-- marketplace: string (nullable = true)\n",
      " |-- customer_id: string (nullable = true)\n",
      " |-- review_id: string (nullable = true)\n",
      " |-- product_id: string (nullable = true)\n",
      " |-- product_parent: string (nullable = true)\n",
      " |-- product_title: string (nullable = true)\n",
      " |-- star_rating: integer (nullable = true)\n",
      " |-- helpful_votes: integer (nullable = true)\n",
      " |-- total_votes: integer (nullable = true)\n",
      " |-- vine: string (nullable = true)\n",
      " |-- verified_purchase: string (nullable = true)\n",
      " |-- review_headline: string (nullable = true)\n",
      " |-- review_body: string (nullable = true)\n",
      " |-- review_date: date (nullable = true)\n",
      " |-- year: integer (nullable = true)\n",
      " |-- product_category: string (nullable = true)"
     ]
    }
   ],
   "source": [
    "df.printSchema()"
   ]
  },
  {
   "cell_type": "code",
   "execution_count": 5,
   "metadata": {},
   "outputs": [
    {
     "name": "stdout",
     "output_type": "stream",
     "text": [
      "['marketplace', 'customer_id', 'review_id', 'product_id', 'product_parent', 'product_title', 'star_rating', 'helpful_votes', 'total_votes', 'vine', 'verified_purchase', 'review_headline', 'review_body', 'review_date', 'year', 'product_category']"
     ]
    }
   ],
   "source": [
    "df.columns"
   ]
  },
  {
   "cell_type": "markdown",
   "metadata": {},
   "source": [
    "Excluding data before 2005"
   ]
  },
  {
   "cell_type": "code",
   "execution_count": 6,
   "metadata": {},
   "outputs": [],
   "source": [
    "df_limit = df.filter(F.col(\"year\")>2004)"
   ]
  },
  {
   "cell_type": "markdown",
   "metadata": {},
   "source": [
    "Perform aggreagtion to get high level Stats\n"
   ]
  },
  {
   "cell_type": "code",
   "execution_count": 8,
   "metadata": {},
   "outputs": [
    {
     "name": "stdout",
     "output_type": "stream",
     "text": [
      "+----------------------+---------+---------------+---------------+\n",
      "|product_category      |AvgRating|TotHelpfulVotes|AvgHelpfulVotes|\n",
      "+----------------------+---------+---------------+---------------+\n",
      "|Wireless              |3.89     |7934542        |0.88           |\n",
      "|Video_DVD             |4.34     |16816126       |2.59           |\n",
      "|PC                    |4.09     |10044848       |1.44           |\n",
      "|Mobile_Apps           |4.04     |18098912       |2.66           |\n",
      "|Digital_Video_Download|4.21     |2538073        |0.49           |\n",
      "|Digital_Ebook_Purchase|4.31     |19141273       |1.0            |\n",
      "|Books                 |4.36     |53565320       |2.99           |\n",
      "+----------------------+---------+---------------+---------------+"
     ]
    }
   ],
   "source": [
    "from pyspark.sql.functions import countDistinct, approx_count_distinct, count, sum, mean, round\n",
    "df_limit.groupBy(\"product_category\").agg(round(mean(\"star_rating\"),2).alias(\"AvgRating\"),\n",
    "                         round(sum(\"helpful_votes\"),2).alias(\"TotHelpfulVotes\"),\n",
    "                         round(mean(\"helpful_votes\"),2).alias(\"AvgHelpfulVotes\"))\\\n",
    "                     .sort(\"product_category\", ascending=False).show(20, False)"
   ]
  },
  {
   "cell_type": "markdown",
   "metadata": {},
   "source": [
    "To filter multiple reviews by same user on same product"
   ]
  },
  {
   "cell_type": "code",
   "execution_count": 10,
   "metadata": {},
   "outputs": [],
   "source": [
    "from pyspark.sql.window import *\n",
    "from pyspark.sql.functions import row_number\n",
    "temp=df_limit.withColumn(\"rownum\",row_number().over(Window.partitionBy(\"customer_id\",\"product_id\").orderBy(\"customer_id\",\"product_id\")))"
   ]
  },
  {
   "cell_type": "code",
   "execution_count": 12,
   "metadata": {},
   "outputs": [
    {
     "name": "stdout",
     "output_type": "stream",
     "text": [
      "DataFrame[marketplace: string, customer_id: string, review_id: string, product_id: string, product_parent: string, product_title: string, star_rating: int, helpful_votes: int, total_votes: int, vine: string, verified_purchase: string, review_headline: string, review_body: string, review_date: date, year: int, product_category: string, rownum: int]"
     ]
    }
   ],
   "source": [
    "gauze = temp.rownum.isin(1)\n",
    "gauzed=temp.where(gauze)\n",
    "gauzed.persist()\n"
   ]
  },
  {
   "cell_type": "code",
   "execution_count": 13,
   "metadata": {},
   "outputs": [
    {
     "name": "stdout",
     "output_type": "stream",
     "text": [
      "root\n",
      " |-- marketplace: string (nullable = true)\n",
      " |-- customer_id: string (nullable = true)\n",
      " |-- review_id: string (nullable = true)\n",
      " |-- product_id: string (nullable = true)\n",
      " |-- product_parent: string (nullable = true)\n",
      " |-- product_title: string (nullable = true)\n",
      " |-- star_rating: integer (nullable = true)\n",
      " |-- helpful_votes: integer (nullable = true)\n",
      " |-- total_votes: integer (nullable = true)\n",
      " |-- vine: string (nullable = true)\n",
      " |-- verified_purchase: string (nullable = true)\n",
      " |-- review_headline: string (nullable = true)\n",
      " |-- review_body: string (nullable = true)\n",
      " |-- review_date: date (nullable = true)\n",
      " |-- year: integer (nullable = true)\n",
      " |-- product_category: string (nullable = true)\n",
      " |-- rownum: integer (nullable = true)"
     ]
    }
   ],
   "source": [
    "gauzed.printSchema()"
   ]
  },
  {
   "cell_type": "markdown",
   "metadata": {},
   "source": [
    "# 1. Explore the dataset and provide analysis by product-category and year:"
   ]
  },
  {
   "cell_type": "markdown",
   "metadata": {},
   "source": [
    "1.1 Number of reviews"
   ]
  },
  {
   "cell_type": "code",
   "execution_count": 14,
   "metadata": {},
   "outputs": [
    {
     "name": "stdout",
     "output_type": "stream",
     "text": [
      "+----+--------------------+----------+\n",
      "|year|    product_category|NoOfReview|\n",
      "+----+--------------------+----------+\n",
      "|2014|               Books|   3540834|\n",
      "|2010|Digital_Ebook_Pur...|    102514|\n",
      "|2015|               Books|   2860737|\n",
      "|2013|            Wireless|   1767127|\n",
      "|2014|         Mobile_Apps|   1728284|\n",
      "+----+--------------------+----------+\n",
      "only showing top 5 rows"
     ]
    }
   ],
   "source": [
    "gauzed.groupby(\"year\",\"product_category\").agg(F.countDistinct(\"review_id\").alias('NoOfReview')).show(5)"
   ]
  },
  {
   "cell_type": "markdown",
   "metadata": {},
   "source": [
    "1.2 Number of distinct users"
   ]
  },
  {
   "cell_type": "code",
   "execution_count": 16,
   "metadata": {},
   "outputs": [
    {
     "name": "stdout",
     "output_type": "stream",
     "text": [
      "+----+--------------------+-----------------+\n",
      "|year|    product_category|NoOfDistinctUsers|\n",
      "+----+--------------------+-----------------+\n",
      "|2005|               Books|           290585|\n",
      "|2005|            Wireless|            10584|\n",
      "|2005|Digital_Ebook_Pur...|               17|\n",
      "|2005|Digital_Video_Dow...|                6|\n",
      "|2005|           Video_DVD|            95196|\n",
      "|2005|                  PC|            15781|\n",
      "|2006|Digital_Video_Dow...|              154|\n",
      "|2006|           Video_DVD|           105660|\n",
      "|2006|                  PC|            23176|\n",
      "|2006|            Wireless|            17984|\n",
      "+----+--------------------+-----------------+\n",
      "only showing top 10 rows"
     ]
    }
   ],
   "source": [
    "gauzed.groupby(\"year\",\"product_category\").agg(F.countDistinct(\"customer_id\").alias('NoOfDistinctUsers')) \\\n",
    ".sort(\"year\",ascending=True).show(10)"
   ]
  },
  {
   "cell_type": "markdown",
   "metadata": {},
   "source": [
    "1.3. Average and Median review stars\n"
   ]
  },
  {
   "cell_type": "code",
   "execution_count": 17,
   "metadata": {},
   "outputs": [
    {
     "name": "stdout",
     "output_type": "stream",
     "text": [
      "+----+--------------------+---------+------+\n",
      "|year|    product_category|AvgRating|Median|\n",
      "+----+--------------------+---------+------+\n",
      "|2005|               Books|     4.15|     5|\n",
      "|2005|Digital_Ebook_Pur...|     3.58|     4|\n",
      "|2005|Digital_Video_Dow...|     3.75|     4|\n",
      "|2005|                  PC|     3.62|     4|\n",
      "|2005|           Video_DVD|      4.0|     5|\n",
      "|2005|            Wireless|     3.41|     4|\n",
      "|2006|               Books|      4.2|     5|\n",
      "|2006|Digital_Ebook_Pur...|     4.03|     5|\n",
      "|2006|Digital_Video_Dow...|     3.63|     4|\n",
      "|2006|                  PC|     3.72|     4|\n",
      "|2006|           Video_DVD|     4.08|     5|\n",
      "|2006|            Wireless|     3.51|     4|\n",
      "|2007|               Books|     4.26|     5|\n",
      "|2007|Digital_Ebook_Pur...|     3.94|     5|\n",
      "|2007|Digital_Video_Dow...|      3.6|     4|\n",
      "|2007|                  PC|     3.94|     5|\n",
      "|2007|           Video_DVD|     4.16|     5|\n",
      "|2007|            Wireless|     3.76|     4|\n",
      "|2008|               Books|     4.23|     5|\n",
      "|2008|Digital_Ebook_Pur...|     3.95|     5|\n",
      "+----+--------------------+---------+------+\n",
      "only showing top 20 rows"
     ]
    }
   ],
   "source": [
    "gauzed.groupby(\"year\",\"product_category\").agg(round(F.avg(\"star_rating\"),2).alias('AvgRating'),\n",
    "                                         F.expr('percentile_approx(star_rating,0.5)').alias('Median')) \\\n",
    ".sort(\"year\",\"product_category\",ascending=True).show()"
   ]
  },
  {
   "cell_type": "markdown",
   "metadata": {},
   "source": [
    "1.4. Percentiles of length of the review. Use the following percentiles: [0.1, 0.25, 0.5, 0.75,\n",
    "0.9, 0.95]"
   ]
  },
  {
   "cell_type": "code",
   "execution_count": 20,
   "metadata": {},
   "outputs": [
    {
     "name": "stdout",
     "output_type": "stream",
     "text": [
      "[188.95, 349.16, 586.57, 845.33, 961.96, 1170.03]"
     ]
    }
   ],
   "source": [
    "from pyspark.sql.functions import stddev_pop,min,max,length,count,mean\n",
    "Length1=gauzed.withColumn('length',length(df.review_body))\n",
    "Length2=Length1.groupby(\"year\",\"product_category\").agg(round(F.avg(\"length\"),2).alias('AvgOfReviews'))\n",
    "columnName = \"AvgOfReviews\"\n",
    "quantiles = [0.1, 0.25, 0.5, 0.75, 0.9, 0.95]\n",
    "Deflection = 0.01\n",
    "Length2.stat.approxQuantile(\"AvgOfReviews\",quantiles,Deflection)"
   ]
  },
  {
   "cell_type": "markdown",
   "metadata": {},
   "source": [
    "1.5. Percentiles for number of reviews per product. For example, 10% of books got 5 or less reviews. Use the following percentiles: [0.1, 0.25, 0.5, 0.75, 0.9, 0.95]"
   ]
  },
  {
   "cell_type": "code",
   "execution_count": 21,
   "metadata": {},
   "outputs": [
    {
     "name": "stdout",
     "output_type": "stream",
     "text": [
      "[1.0, 1.0, 1.0, 3.0, 9.0, 18.0]"
     ]
    }
   ],
   "source": [
    "from pyspark.sql.functions import stddev_pop, min, max,length,count, mean\n",
    "dataframe=gauzed.groupby(\"year\",\"product_id\",\"product_category\").agg(F.countDistinct(\"review_id\").alias('NoOfReviews'))\n",
    "quantiles = [0.1, 0.25, 0.5, 0.75, 0.9, 0.95]\n",
    "Deflection = 0.01\n",
    "dataframe.stat.approxQuantile(\"NoOfReviews\",quantiles,Deflection)"
   ]
  },
  {
   "cell_type": "markdown",
   "metadata": {},
   "source": [
    "1.6. Identify week number (each year has 52 weeks) for each year and product category## with most positive reviews (4 and 5 star)"
   ]
  },
  {
   "cell_type": "code",
   "execution_count": 23,
   "metadata": {},
   "outputs": [
    {
     "name": "stdout",
     "output_type": "stream",
     "text": [
      "+--------------------+----+-----------+\n",
      "|    product_category|year|week_number|\n",
      "+--------------------+----+-----------+\n",
      "|           Video_DVD|2015|         12|\n",
      "|               Books|2011|         36|\n",
      "|Digital_Ebook_Pur...|2015|         16|\n",
      "|           Video_DVD|2011|         37|\n",
      "|Digital_Ebook_Pur...|2014|         11|\n",
      "|               Books|2008|         48|\n",
      "|               Books|2007|         37|\n",
      "|Digital_Ebook_Pur...|2015|         11|\n",
      "|         Mobile_Apps|2013|          2|\n",
      "|Digital_Ebook_Pur...|2013|         49|\n",
      "|Digital_Ebook_Pur...|2013|         19|\n",
      "|               Books|2014|          6|\n",
      "|               Books|2009|         36|\n",
      "|                  PC|2010|         20|\n",
      "|               Books|2010|          3|\n",
      "|           Video_DVD|2009|          9|\n",
      "|               Books|2010|         12|\n",
      "|               Books|2006|         12|\n",
      "|                  PC|2012|         24|\n",
      "|         Mobile_Apps|2011|         32|\n",
      "+--------------------+----+-----------+\n",
      "only showing top 20 rows"
     ]
    }
   ],
   "source": [
    "from pyspark.sql.functions import *\n",
    "star4rating = gauzed.star_rating.isin(4)\n",
    "star5rating = gauzed.star_rating.isin(5)\n",
    "dfQ6=gauzed.select(\"product_category\",\"year\",\"review_date\") \\\n",
    ".withColumn(\"week_number\",weekofyear(\"review_date\")).where(star4rating | star5rating)\n",
    "df2Q6 = dfQ6.groupby(\"product_category\",\"year\",\"week_number\").agg(F.countDistinct(\"week_number\").alias(\"TotCount\"))\n",
    "df2Q6.drop('TotCount').show()"
   ]
  },
  {
   "cell_type": "markdown",
   "metadata": {},
   "source": [
    "# 2. Provide detailed analysis of \"Digital eBook Purchase\" versus Books.\n"
   ]
  },
  {
   "cell_type": "markdown",
   "metadata": {},
   "source": [
    "2.1. Using Spark Pivot functionality, produce DataFrame with following columns:"
   ]
  },
  {
   "cell_type": "code",
   "execution_count": 24,
   "metadata": {},
   "outputs": [
    {
     "name": "stdout",
     "output_type": "stream",
     "text": [
      "+----+------------------+-------------------------------------+--------------------------------+--------------------+---------------+\n",
      "|year|month(review_date)|Digital_Ebook_Purchase_CountOfReviews|Digital_Ebook_Purchase_AvgRating|Books_CountOfReviews|Books_AvgRating|\n",
      "+----+------------------+-------------------------------------+--------------------------------+--------------------+---------------+\n",
      "|2005|                 1|                                    1|                             5.0|               40426|          4.121|\n",
      "|2005|                 2|                                 null|                            null|               33726|          4.125|\n",
      "|2005|                 3|                                    2|                             4.5|               38882|          4.122|\n",
      "|2005|                 4|                                    1|                             5.0|               36887|          4.132|\n",
      "|2005|                 5|                                    1|                             1.0|               36873|          4.132|\n",
      "|2005|                 6|                                 null|                            null|               36608|          4.115|\n",
      "|2005|                 7|                                    3|                             2.0|               45945|          4.128|\n",
      "|2005|                 8|                                    3|                           2.667|               58926|          4.186|\n",
      "|2005|                 9|                                    2|                             4.0|               58127|          4.203|\n",
      "|2005|                10|                                    4|                             4.0|               51214|           4.18|\n",
      "|2005|                11|                                    1|                             5.0|               40885|          4.151|\n",
      "|2005|                12|                                    1|                             5.0|               42522|          4.126|\n",
      "|2006|                 1|                                    8|                           3.375|               51994|          4.135|\n",
      "|2006|                 2|                                    5|                             4.6|               54413|          4.203|\n",
      "|2006|                 3|                                 null|                            null|               66895|          4.233|\n",
      "|2006|                 4|                                 null|                            null|               27675|          4.132|\n",
      "|2006|                 5|                                    1|                             5.0|               45007|           4.18|\n",
      "|2006|                 6|                                    5|                             4.2|               48050|          4.184|\n",
      "|2006|                 7|                                    1|                             4.0|               55793|            4.2|\n",
      "|2006|                 8|                                    9|                           4.444|               54418|          4.213|\n",
      "+----+------------------+-------------------------------------+--------------------------------+--------------------+---------------+\n",
      "only showing top 20 rows"
     ]
    }
   ],
   "source": [
    "tobepivoted=['Digital_Ebook_Purchase','Books']\n",
    "postpivoting=gauzed.groupBy(\"year\",F.month(F.col(\"review_date\"))).pivot(\"product_category\",tobepivoted)\\\n",
    " .agg((F.count(\"review_id\")).alias(\"CountOfReviews\"),\n",
    " F.round(F.mean(\"star_rating\"),3).alias(\"AvgRating\")).sort(\"year\",\"month(review_date)\",ascending=True).show()\n"
   ]
  },
  {
   "cell_type": "markdown",
   "metadata": {},
   "source": [
    "2.2 Produce two graphs to demonstrate aggregations from #1:"
   ]
  },
  {
   "cell_type": "markdown",
   "metadata": {},
   "source": [
    "Graphs will be illustrated in the reports"
   ]
  },
  {
   "cell_type": "markdown",
   "metadata": {},
   "source": [
    "## 3. Identify similar products (books) in both categories. Use \"product_title\" to match products. To account for potential differences in naming of products, compare titles after stripping spaces and converting to lower case."
   ]
  },
  {
   "cell_type": "markdown",
   "metadata": {},
   "source": [
    "3.1. Is there a difference in average rating for the similar books in digital and printed form?"
   ]
  },
  {
   "cell_type": "code",
   "execution_count": 25,
   "metadata": {},
   "outputs": [],
   "source": [
    "product=['Digital_Ebook_Purchase']\n",
    "DigEbook=gauzed.groupBy(\"product_title\",\"product_category\")\\\n",
    " .agg((F.count(\"review_id\")).alias(\"CountOfReviews\"),\n",
    " F.round(F.mean(\"star_rating\"),3).alias(\"AvgRating\")).filter(F.col(\"product_category\").isin(product))"
   ]
  },
  {
   "cell_type": "code",
   "execution_count": 26,
   "metadata": {},
   "outputs": [],
   "source": [
    "trimDigEbook=DigEbook.select(F.lower(F.trim(F.col(\"product_title\"))).alias(\"Title\"),F.col(\"CountOfReviews\") \\\n",
    "                      ,F.col(\"AvgRating\"))"
   ]
  },
  {
   "cell_type": "code",
   "execution_count": 27,
   "metadata": {},
   "outputs": [],
   "source": [
    "book1=['Books']\n",
    "book2=gauzed.groupBy(\"product_title\",\"product_category\")\\\n",
    " .agg((F.count(\"review_id\")).alias(\"CntReviewsBook\"),\n",
    " F.round(F.mean(\"star_rating\"),3).alias(\"AvgRatingBook\")).filter(F.col(\"product_category\").isin(book1))"
   ]
  },
  {
   "cell_type": "code",
   "execution_count": 30,
   "metadata": {},
   "outputs": [],
   "source": [
    "trimEbook=book2.select(F.lower(F.trim(F.col(\"product_title\"))).alias(\"BookTitle\"),F.col(\"CntReviewsBook\") \\\n",
    "                      ,F.col(\"AvgRatingBook\"))"
   ]
  },
  {
   "cell_type": "code",
   "execution_count": 34,
   "metadata": {},
   "outputs": [
    {
     "name": "stdout",
     "output_type": "stream",
     "text": [
      "+--------------------+--------------+-------------+--------------------+--------------+---------+\n",
      "|           BookTitle|CntReviewsBook|AvgRatingBook|               Title|CountOfReviews|AvgRating|\n",
      "+--------------------+--------------+-------------+--------------------+--------------+---------+\n",
      "|\"rays of light\": ...|             2|          5.0|\"rays of light\": ...|             1|      5.0|\n",
      "|\"the siege of khe...|            19|        4.316|\"the siege of khe...|           156|    3.327|\n",
      "|          'dem bon'z|             4|          5.0|          'dem bon'z|             2|      5.0|\n",
      "|   0400 roswell time|             1|          5.0|   0400 roswell time|             6|    3.667|\n",
      "|10 smart things g...|             1|          5.0|10 smart things g...|             6|    4.833|\n",
      "|10 smart things g...|            19|        4.789|10 smart things g...|             6|    4.833|\n",
      "|100 prayers for y...|            11|          5.0|100 prayers for y...|             7|      5.0|\n",
      "|13 cent killers: ...|            37|        2.811|13 cent killers: ...|            15|    3.933|\n",
      "|25 essentials: te...|            41|        4.439|25 essentials: te...|             1|      5.0|\n",
      "|30 before 30: tra...|             2|          3.5|30 before 30: tra...|            33|     4.97|\n",
      "|300 hard word sea...|             2|          4.5|300 hard word sea...|             7|      1.0|\n",
      "|42 rules to incre...|             1|          5.0|42 rules to incre...|             2|      5.0|\n",
      "|50 american heroe...|             2|          5.0|50 american heroe...|             3|      4.0|\n",
      "|50 successful har...|            49|        4.347|50 successful har...|             3|    4.667|\n",
      "|52 prepper projec...|            30|          3.9|52 prepper projec...|             2|      4.5|\n",
      "|73 north: the bat...|             6|          5.0|73 north: the bat...|             1|      5.0|\n",
      "|<i>change</i> the...|             8|         4.75|<i>change</i> the...|             2|      4.5|\n",
      "|      a changed life|             5|          4.2|      a changed life|            36|    4.222|\n",
      "|a chip off the ol...|             1|          5.0|a chip off the ol...|             1|      5.0|\n",
      "|a closer look at ...|             1|          5.0|a closer look at ...|             1|      1.0|\n",
      "+--------------------+--------------+-------------+--------------------+--------------+---------+\n",
      "only showing top 20 rows"
     ]
    }
   ],
   "source": [
    "joinExpression = trimEbook[\"BookTitle\"] == trimDigEbook[\"Title\"]\n",
    "joinType = \"inner\"\n",
    "final=trimEbook.join(trimDigEbook, joinExpression, joinType)\n",
    "final.show()"
   ]
  },
  {
   "cell_type": "code",
   "execution_count": 35,
   "metadata": {},
   "outputs": [
    {
     "name": "stdout",
     "output_type": "stream",
     "text": [
      "276590"
     ]
    }
   ],
   "source": [
    "ratingforprintedbook=F.col(\"AvgRatingBook\")>4\n",
    "final.where(ratingforprintedbook).count()"
   ]
  },
  {
   "cell_type": "code",
   "execution_count": 36,
   "metadata": {},
   "outputs": [
    {
     "name": "stdout",
     "output_type": "stream",
     "text": [
      "245526"
     ]
    }
   ],
   "source": [
    "ratingforebook=F.col(\"AvgRating\")>4\n",
    "final.where(ratingforebook).count()"
   ]
  },
  {
   "cell_type": "markdown",
   "metadata": {},
   "source": [
    "We can see that printed book has got more number of higher rating i.e count of more than 4 star ratings is higher for printed books as compared to digital book star ratings."
   ]
  },
  {
   "cell_type": "markdown",
   "metadata": {},
   "source": [
    "# 4. Using provided LDA starter notebook, perform LDA topic modeling for the reviews in Digital_Ebook_Purchase and Books categories. Consider reviews for the January of 2015 only."
   ]
  },
  {
   "cell_type": "code",
   "execution_count": 37,
   "metadata": {},
   "outputs": [],
   "source": [
    "from pyspark.mllib.clustering import LDA, LDAModel\n",
    "from pyspark.mllib.linalg import Vectors\n",
    "from pyspark.ml.feature import CountVectorizer, IDF,RegexTokenizer, Tokenizer\n",
    "from pyspark.sql.types import ArrayType\n",
    "from pyspark.sql.types import StringType\n",
    "from pyspark.sql.types import *\n",
    "from pyspark.sql.functions import udf\n",
    "from pyspark.sql.functions import struct\n",
    "import re\n",
    "from pyspark.ml.feature import StopWordsRemover\n",
    "from pyspark.ml.clustering import LDA\n",
    "from pyspark.ml.feature import CountVectorizer"
   ]
  },
  {
   "cell_type": "code",
   "execution_count": 39,
   "metadata": {},
   "outputs": [],
   "source": [
    "\n",
    "df_ml = gauzed.filter((F.col(\"product_category\")==\"Digital_Ebook_Purchase\") | (F.col(\"product_category\")==\"Books\") \\\n",
    "                   & (F.col(\"year\")==2015) \\\n",
    "                   & (F.col(\"review_date\")<'2015-02-01')\n",
    "                   & (F.col(\"star_rating\")>3))"
   ]
  },
  {
   "cell_type": "code",
   "execution_count": 40,
   "metadata": {},
   "outputs": [
    {
     "name": "stdout",
     "output_type": "stream",
     "text": [
      "Corpus size: 18287530\n",
      "+--------------------+---+\n",
      "|         review_text| id|\n",
      "+--------------------+---+\n",
      "|Nice Story but ve...|  0|\n",
      "|Beautiful and hea...|  1|\n",
      "|Worth The Wait. T...|  2|\n",
      "|written before. I...|  3|\n",
      "|Entertaining Rev....|  4|\n",
      "+--------------------+---+\n",
      "only showing top 5 rows\n",
      "\n",
      "root\n",
      " |-- review_text: string (nullable = true)\n",
      " |-- id: long (nullable = false)"
     ]
    }
   ],
   "source": [
    "df1 = df_ml.withColumn('review_text', \n",
    "                       F.concat(F.col('review_headline'),F.lit(' '), F.col('review_body')))\n",
    "corpus =df1.select('review_text')\n",
    "\n",
    "# This will return a new DF with all the columns + id\n",
    "corpus_df = corpus.withColumn(\"id\", F.monotonically_increasing_id())\n",
    "# Remove records with no review text\n",
    "corpus_df = corpus_df.dropna()\n",
    "\n",
    "corpus_df.persist()\n",
    "print('Corpus size:', corpus_df.count())\n",
    "corpus_df.show(5)\n",
    "\n",
    "corpus_df.printSchema()"
   ]
  },
  {
   "cell_type": "code",
   "execution_count": 42,
   "metadata": {},
   "outputs": [
    {
     "name": "stdout",
     "output_type": "stream",
     "text": [
      "+--------------------+--------------------+------+\n",
      "|         review_text|               words|tokens|\n",
      "+--------------------+--------------------+------+\n",
      "|Nice Story but ve...|[nice, story, but...|    40|\n",
      "|Beautiful and hea...|[beautiful, and, ...|    76|\n",
      "|Worth The Wait. T...|[worth, the, wait...|    77|\n",
      "|written before. I...|[written, before,...|   327|\n",
      "|Entertaining Rev....|[entertaining, re...|    51|\n",
      "|Fastest 600 page ...|[fastest, 600, pa...|    45|\n",
      "|Amazing It is a c...|[amazing, it, is,...|    27|\n",
      "|Huge impact Profo...|[huge, impact, pr...|    27|\n",
      "|LOVED LOVED LOVED...|[loved, loved, lo...|    25|\n",
      "|Five Stars very h...|[five, stars, ver...|     4|\n",
      "|This is an awesom...|[this, is, an, aw...|    26|\n",
      "|Kept me intereste...|[kept, me, intere...|    29|\n",
      "|So many of these ...|[so, many, of, th...|    50|\n",
      "|she is an incredi...|[she, is, an, inc...|    43|\n",
      "|Thoroughly enjoye...|[thoroughly, enjo...|    42|\n",
      "|This book has mad...|[this, book, has,...|    39|\n",
      "|Not as good as th...|[not, as, good, a...|    33|\n",
      "|Writer's Block Wo...|[writer, s, block...|    74|\n",
      "|One of my favorit...|[one, of, my, fav...|    43|\n",
      "|Wow This book was...|[wow, this, book,...|    74|\n",
      "+--------------------+--------------------+------+\n",
      "only showing top 20 rows"
     ]
    }
   ],
   "source": [
    "tokenizer = Tokenizer(inputCol=\"review_text\", outputCol=\"words\")\n",
    "countTokens = udf(lambda words: len(words), IntegerType())\n",
    "'''\n",
    "tokenized_df = tokenizer.transform(corpus_df)\n",
    "tokenized_df.select(\"review_text\", \"words\").withColumn(\"tokens\", countTokens(col(\"words\"))).show() \n",
    "'''\n",
    "regexTokenizer = RegexTokenizer(inputCol=\"review_text\", \n",
    "                                outputCol=\"words\",pattern=\"\\\\w+\", gaps=False)\n",
    "# alternatively, pattern=\"\\\\w+\", gaps(False) pattern=\"\\\\W\"\n",
    "\n",
    "tokenized_df = regexTokenizer.transform(corpus_df)\n",
    "tokenized_df.select(\"review_text\", \"words\") \\\n",
    "    .withColumn(\"tokens\", countTokens(F.col(\"words\"))).show()"
   ]
  },
  {
   "cell_type": "markdown",
   "metadata": {},
   "source": [
    "2. Adding stop words to the standard list as needed. "
   ]
  },
  {
   "cell_type": "code",
   "execution_count": 43,
   "metadata": {},
   "outputs": [],
   "source": [
    "stop_words = ['a', 'about', 'above', 'across', 'after', 'afterwards', 'again', 'against', 'all', 'almost', 'alone', 'along', 'already', 'also', 'although', 'always', 'am', 'among', 'amongst', 'amoungst', 'amount', 'an', 'and', 'another', 'any', 'anyhow', 'anyone', 'anything', 'anyway', 'anywhere', 'are', 'around', 'as', 'at', 'back', 'be', 'became', 'because', 'become', 'becomes', 'becoming', 'been', 'before', 'beforehand', 'behind', 'being', 'below', 'beside', 'besides', 'between', 'beyond', 'bill', 'both', 'bottom', 'but', 'by', 'call', 'can', 'cannot', 'cant', 'co', 'computer', 'con', 'could', 'couldnt', 'cry', 'de', 'describe', 'detail', 'do', 'done', 'down', 'due', 'during', 'each', 'eg', 'eight', 'either', 'eleven', 'else', 'elsewhere', 'empty', 'enough', 'etc', 'even', 'ever', 'every', 'everyone', 'everything', 'everywhere', 'except', 'few', 'fifteen', 'fify', 'fill', 'find', 'fire', 'first', 'five', 'for', 'former', 'formerly', 'forty', 'found', 'four', 'from', 'front', 'full', 'further', 'get', 'give', 'go', 'had', 'has', 'hasnt', 'have', 'he', 'hence', 'her', 'here', 'hereafter', 'hereby', 'herein', 'hereupon', 'hers', 'herself', 'him', 'himself', 'his', 'how', 'however', 'hundred', 'i', 'ie', 'if', 'in', 'inc', 'indeed', 'interest', 'into', 'is', 'it', 'its', 'itself', 'keep', 'last', 'latter', 'latterly', 'least', 'less', 'ltd', 'made', 'many', 'may', 'me', 'meanwhile', 'might', 'mill', 'mine', 'more', 'moreover', 'most', 'mostly', 'move', 'much', 'must', 'my', 'myself', 'name', 'namely', 'neither', 'never', 'nevertheless', 'next', 'nine', 'no', 'nobody', 'none', 'noone', 'nor', 'not', 'nothing', 'now', 'nowhere', 'of', 'off', 'often', 'on', 'once', 'one', 'only', 'onto', 'or', 'other', 'others', 'otherwise', 'our', 'ours', 'ourselves', 'out', 'over', 'own', 'part', 'per', 'perhaps', 'please', 'put', 'rather', 're', 'same', 'see', 'seem', 'seemed', 'seeming', 'seems', 'serious', 'several', 'she', 'should', 'show', 'side', 'since', 'sincere', 'six', 'sixty', 'so', 'some', 'somehow', 'someone', 'something', 'sometime', 'sometimes', 'somewhere', 'still', 'such', 'system', 'take', 'ten', 'than', 'that', 'the', 'their', 'them', 'themselves', 'then', 'thence', 'there', 'thereafter', 'thereby', 'therefore', 'therein', 'thereupon', 'these', 'they', 'thick', 'thin', 'third', 'this', 'those', 'though', 'three', 'through', 'throughout', 'thru', 'thus', 'to', 'together', 'too', 'top', 'toward', 'towards', 'twelve', 'twenty', 'two', 'un', 'under', 'until', 'up', 'upon', 'us', 'very', 'via', 'was', 'we', 'well', 'were', 'what', 'whatever', 'when', 'whence', 'whenever', 'where', 'whereafter', 'whereas', 'whereby', 'wherein', 'whereupon', 'wherever', 'whether', 'which', 'while', 'whither', 'who', 'whoever', 'whole', 'whom', 'whose', 'why', 'will', 'with', 'within', 'without', 'would', 'yet', 'you', 'your', 'yours', 'yourself', 'yourselves', '']\n",
    "stop_words = stop_words + ['br','book','34','y','m','ich','zu']"
   ]
  },
  {
   "cell_type": "code",
   "execution_count": 44,
   "metadata": {},
   "outputs": [
    {
     "name": "stdout",
     "output_type": "stream",
     "text": [
      "+--------------------+---+--------------------+--------------------+\n",
      "|         review_text| id|               words|            filtered|\n",
      "+--------------------+---+--------------------+--------------------+\n",
      "|Nice Story but ve...|  0|[nice, story, but...|[nice, story, rus...|\n",
      "|Beautiful and hea...|  1|[beautiful, and, ...|[beautiful, heart...|\n",
      "|Worth The Wait. T...|  2|[worth, the, wait...|[worth, wait, sto...|\n",
      "|written before. I...|  3|[written, before,...|[written, really,...|\n",
      "|Entertaining Rev....|  4|[entertaining, re...|[entertaining, re...|\n",
      "+--------------------+---+--------------------+--------------------+\n",
      "only showing top 5 rows\n",
      "\n",
      "+--------------------+---+--------------------+--------------------+--------------------+\n",
      "|         review_text| id|               words|            filtered|       filtered_more|\n",
      "+--------------------+---+--------------------+--------------------+--------------------+\n",
      "|Nice Story but ve...|  0|[nice, story, but...|[nice, story, rus...|[nice, story, rus...|\n",
      "|Beautiful and hea...|  1|[beautiful, and, ...|[beautiful, heart...|[beautiful, heart...|\n",
      "|Worth The Wait. T...|  2|[worth, the, wait...|[worth, wait, sto...|[worth, wait, sto...|\n",
      "|written before. I...|  3|[written, before,...|[written, really,...|[written, really,...|\n",
      "|Entertaining Rev....|  4|[entertaining, re...|[entertaining, re...|[entertaining, re...|\n",
      "+--------------------+---+--------------------+--------------------+--------------------+\n",
      "only showing top 5 rows"
     ]
    }
   ],
   "source": [
    "remover = StopWordsRemover(inputCol=\"words\", outputCol=\"filtered\")\n",
    "tokenized_df1 = remover.transform(tokenized_df)\n",
    "tokenized_df1.show(5)\n",
    "\n",
    "stopwordList = stop_words\n",
    "\n",
    "remover=StopWordsRemover(inputCol=\"filtered\", outputCol=\"filtered_more\" ,stopWords=stopwordList)\n",
    "tokenized_df2 = remover.transform(tokenized_df1)\n",
    "tokenized_df2.show(5)"
   ]
  },
  {
   "cell_type": "code",
   "execution_count": 45,
   "metadata": {},
   "outputs": [
    {
     "name": "stdout",
     "output_type": "stream",
     "text": [
      "+--------------------+--------------------+---+\n",
      "|       filtered_more|            features| id|\n",
      "+--------------------+--------------------+---+\n",
      "|[nice, story, rus...|(10000,[0,1,4,5,7...|  0|\n",
      "|[beautiful, heart...|(10000,[1,5,9,12,...|  1|\n",
      "|[worth, wait, sto...|(10000,[1,28,57,8...|  2|\n",
      "|[written, really,...|(10000,[0,4,5,9,1...|  3|\n",
      "|[entertaining, re...|(10000,[0,22,37,4...|  4|\n",
      "+--------------------+--------------------+---+\n",
      "only showing top 5 rows\n",
      "\n",
      "Records in the DF: 18287530"
     ]
    }
   ],
   "source": [
    "cv = CountVectorizer(inputCol=\"filtered_more\", outputCol=\"features\", vocabSize = 10000)\n",
    "cvmodel = cv.fit(tokenized_df2)\n",
    "featurized_df = cvmodel.transform(tokenized_df2)\n",
    "vocab = cvmodel.vocabulary\n",
    "featurized_df.select('filtered_more','features','id').show(5)\n",
    "\n",
    "countVectors = featurized_df.select('features','id')\n",
    "countVectors.persist()\n",
    "print('Records in the DF:', countVectors.count())"
   ]
  },
  {
   "cell_type": "markdown",
   "metadata": {},
   "source": [
    "Performing LDA"
   ]
  },
  {
   "cell_type": "code",
   "execution_count": 46,
   "metadata": {},
   "outputs": [],
   "source": [
    "#k=10 means 10 words per topic\n",
    "lda = LDA(k=10, maxIter=10)\n",
    "model = lda.fit(countVectors)\n",
    "\n"
   ]
  },
  {
   "cell_type": "code",
   "execution_count": 47,
   "metadata": {},
   "outputs": [
    {
     "name": "stdout",
     "output_type": "stream",
     "text": [
      "topic:  0\n",
      "----------\n",
      "story\n",
      "characters\n",
      "love\n",
      "read\n",
      "good\n",
      "----------\n",
      "topic:  1\n",
      "----------\n",
      "good\n",
      "read\n",
      "story\n",
      "great\n",
      "really\n",
      "----------\n",
      "topic:  2\n",
      "----------\n",
      "read\n",
      "series\n",
      "books\n",
      "great\n",
      "love\n",
      "----------\n",
      "topic:  3\n",
      "----------\n",
      "story\n",
      "life\n",
      "read\n",
      "love\n",
      "world\n",
      "----------\n",
      "topic:  4\n",
      "----------\n",
      "read\n",
      "story\n",
      "good\n",
      "mystery\n",
      "great\n",
      "----------\n",
      "topic:  5\n",
      "----------\n",
      "read\n",
      "like\n",
      "great\n",
      "time\n",
      "interesting\n",
      "----------\n",
      "topic:  6\n",
      "----------\n",
      "read\n",
      "characters\n",
      "reading\n",
      "story\n",
      "great\n",
      "----------\n",
      "topic:  7\n",
      "----------\n",
      "great\n",
      "read\n",
      "life\n",
      "good\n",
      "information\n",
      "----------\n",
      "topic:  8\n",
      "----------\n",
      "love\n",
      "story\n",
      "like\n",
      "really\n",
      "read\n",
      "----------\n",
      "topic:  9\n",
      "----------\n",
      "read\n",
      "author\n",
      "good\n",
      "books\n",
      "enjoyed\n",
      "----------"
     ]
    }
   ],
   "source": [
    "topics = model.describeTopics(5)   \n",
    "topics_rdd = topics.rdd\n",
    "\n",
    "topics_words = topics_rdd\\\n",
    "       .map(lambda row: row['termIndices'])\\\n",
    "       .map(lambda idx_list: [vocab[idx] for idx in idx_list])\\\n",
    "       .collect()\n",
    "\n",
    "for idx, topic in enumerate(topics_words):\n",
    "    print (\"topic: \", idx)\n",
    "    print (\"----------\")\n",
    "    for word in topic:\n",
    "       print (word)\n",
    "    print (\"----------\")"
   ]
  },
  {
   "cell_type": "markdown",
   "metadata": {},
   "source": [
    "We can see that for ratings greater than 3 there are more of positive words"
   ]
  },
  {
   "cell_type": "markdown",
   "metadata": {},
   "source": [
    "Topic modelling for reviews with stars less than 3"
   ]
  },
  {
   "cell_type": "code",
   "execution_count": 49,
   "metadata": {},
   "outputs": [],
   "source": [
    "df_ml1 = gauzed.filter((F.col(\"product_category\")==\"Digital_Ebook_Purchase\") | (F.col(\"product_category\")==\"Books\") \\\n",
    "                   & (F.col(\"year\")==2015) \\\n",
    "                   & (F.col(\"review_date\")<'2015-02-01')\n",
    "                   & (F.col(\"star_rating\")<3))"
   ]
  },
  {
   "cell_type": "code",
   "execution_count": 50,
   "metadata": {},
   "outputs": [
    {
     "name": "stdout",
     "output_type": "stream",
     "text": [
      "Corpus size: 17950045\n",
      "+--------------------+---+\n",
      "|         review_text| id|\n",
      "+--------------------+---+\n",
      "|Nice Story but ve...|  0|\n",
      "|Beautiful and hea...|  1|\n",
      "|Worth The Wait. T...|  2|\n",
      "|written before. I...|  3|\n",
      "|Entertaining Rev....|  4|\n",
      "+--------------------+---+\n",
      "only showing top 5 rows\n",
      "\n",
      "root\n",
      " |-- review_text: string (nullable = true)\n",
      " |-- id: long (nullable = false)"
     ]
    }
   ],
   "source": [
    "\n",
    "df1 = df_ml1.withColumn('review_text', \n",
    "                       F.concat(F.col('review_headline'),F.lit(' '), F.col('review_body')))\n",
    "corpus =df1.select('review_text')\n",
    "\n",
    "# This will return a new DF with all the columns + id\n",
    "corpus_df = corpus.withColumn(\"id\", F.monotonically_increasing_id())\n",
    "# Remove records with no review text\n",
    "corpus_df = corpus_df.dropna()\n",
    "\n",
    "corpus_df.persist()\n",
    "print('Corpus size:', corpus_df.count())\n",
    "corpus_df.show(5)\n",
    "\n",
    "corpus_df.printSchema()"
   ]
  },
  {
   "cell_type": "code",
   "execution_count": 51,
   "metadata": {},
   "outputs": [
    {
     "name": "stdout",
     "output_type": "stream",
     "text": [
      "+--------------------+--------------------+------+\n",
      "|         review_text|               words|tokens|\n",
      "+--------------------+--------------------+------+\n",
      "|Nice Story but ve...|[nice, story, but...|    40|\n",
      "|Beautiful and hea...|[beautiful, and, ...|    76|\n",
      "|Worth The Wait. T...|[worth, the, wait...|    77|\n",
      "|written before. I...|[written, before,...|   327|\n",
      "|Entertaining Rev....|[entertaining, re...|    51|\n",
      "|Fastest 600 page ...|[fastest, 600, pa...|    45|\n",
      "|Amazing It is a c...|[amazing, it, is,...|    27|\n",
      "|Huge impact Profo...|[huge, impact, pr...|    27|\n",
      "|LOVED LOVED LOVED...|[loved, loved, lo...|    25|\n",
      "|Five Stars very h...|[five, stars, ver...|     4|\n",
      "|This is an awesom...|[this, is, an, aw...|    26|\n",
      "|Kept me intereste...|[kept, me, intere...|    29|\n",
      "|So many of these ...|[so, many, of, th...|    50|\n",
      "|she is an incredi...|[she, is, an, inc...|    43|\n",
      "|Thoroughly enjoye...|[thoroughly, enjo...|    42|\n",
      "|Not as good as th...|[not, as, good, a...|    33|\n",
      "|Writer's Block Wo...|[writer, s, block...|    74|\n",
      "|One of my favorit...|[one, of, my, fav...|    43|\n",
      "|Wow This book was...|[wow, this, book,...|    74|\n",
      "|THE BEST OF THE B...|[the, best, of, t...|    86|\n",
      "+--------------------+--------------------+------+\n",
      "only showing top 20 rows"
     ]
    }
   ],
   "source": [
    "tokenizer = Tokenizer(inputCol=\"review_text\", outputCol=\"words\")\n",
    "countTokens = udf(lambda words: len(words), IntegerType())\n",
    "'''\n",
    "tokenized_df = tokenizer.transform(corpus_df)\n",
    "tokenized_df.select(\"review_text\", \"words\").withColumn(\"tokens\", countTokens(col(\"words\"))).show() \n",
    "'''\n",
    "regexTokenizer = RegexTokenizer(inputCol=\"review_text\", \n",
    "                                outputCol=\"words\",pattern=\"\\\\w+\", gaps=False)\n",
    "# alternatively, pattern=\"\\\\w+\", gaps(False) pattern=\"\\\\W\"\n",
    "\n",
    "tokenized_df = regexTokenizer.transform(corpus_df)\n",
    "tokenized_df.select(\"review_text\", \"words\") \\\n",
    "    .withColumn(\"tokens\", countTokens(F.col(\"words\"))).show()"
   ]
  },
  {
   "cell_type": "code",
   "execution_count": 52,
   "metadata": {},
   "outputs": [
    {
     "name": "stdout",
     "output_type": "stream",
     "text": [
      "+--------------------+---+--------------------+--------------------+\n",
      "|         review_text| id|               words|            filtered|\n",
      "+--------------------+---+--------------------+--------------------+\n",
      "|Nice Story but ve...|  0|[nice, story, but...|[nice, story, rus...|\n",
      "|Beautiful and hea...|  1|[beautiful, and, ...|[beautiful, heart...|\n",
      "|Worth The Wait. T...|  2|[worth, the, wait...|[worth, wait, sto...|\n",
      "|written before. I...|  3|[written, before,...|[written, really,...|\n",
      "|Entertaining Rev....|  4|[entertaining, re...|[entertaining, re...|\n",
      "+--------------------+---+--------------------+--------------------+\n",
      "only showing top 5 rows\n",
      "\n",
      "+--------------------+---+--------------------+--------------------+--------------------+\n",
      "|         review_text| id|               words|            filtered|       filtered_more|\n",
      "+--------------------+---+--------------------+--------------------+--------------------+\n",
      "|Nice Story but ve...|  0|[nice, story, but...|[nice, story, rus...|[nice, story, rus...|\n",
      "|Beautiful and hea...|  1|[beautiful, and, ...|[beautiful, heart...|[beautiful, heart...|\n",
      "|Worth The Wait. T...|  2|[worth, the, wait...|[worth, wait, sto...|[worth, wait, sto...|\n",
      "|written before. I...|  3|[written, before,...|[written, really,...|[written, really,...|\n",
      "|Entertaining Rev....|  4|[entertaining, re...|[entertaining, re...|[entertaining, re...|\n",
      "+--------------------+---+--------------------+--------------------+--------------------+\n",
      "only showing top 5 rows"
     ]
    }
   ],
   "source": [
    "remover = StopWordsRemover(inputCol=\"words\", outputCol=\"filtered\")\n",
    "tokenized_df1 = remover.transform(tokenized_df)\n",
    "tokenized_df1.show(5)\n",
    "\n",
    "stopwordList = stop_words\n",
    "\n",
    "remover=StopWordsRemover(inputCol=\"filtered\", outputCol=\"filtered_more\" ,stopWords=stopwordList)\n",
    "tokenized_df2 = remover.transform(tokenized_df1)\n",
    "tokenized_df2.show(5)"
   ]
  },
  {
   "cell_type": "code",
   "execution_count": 53,
   "metadata": {},
   "outputs": [
    {
     "name": "stdout",
     "output_type": "stream",
     "text": [
      "+--------------------+--------------------+---+\n",
      "|       filtered_more|            features| id|\n",
      "+--------------------+--------------------+---+\n",
      "|[nice, story, rus...|(10000,[0,1,4,5,7...|  0|\n",
      "|[beautiful, heart...|(10000,[1,5,9,12,...|  1|\n",
      "|[worth, wait, sto...|(10000,[1,27,56,8...|  2|\n",
      "|[written, really,...|(10000,[0,4,5,9,1...|  3|\n",
      "|[entertaining, re...|(10000,[0,22,37,4...|  4|\n",
      "+--------------------+--------------------+---+\n",
      "only showing top 5 rows\n",
      "\n",
      "Records in the DF: 17950045"
     ]
    }
   ],
   "source": [
    "cv = CountVectorizer(inputCol=\"filtered_more\", outputCol=\"features\", vocabSize = 10000)\n",
    "cvmodel = cv.fit(tokenized_df2)\n",
    "featurized_df = cvmodel.transform(tokenized_df2)\n",
    "vocab = cvmodel.vocabulary\n",
    "featurized_df.select('filtered_more','features','id').show(5)\n",
    "\n",
    "countVectors = featurized_df.select('features','id')\n",
    "countVectors.persist()\n",
    "print('Records in the DF:', countVectors.count())"
   ]
  },
  {
   "cell_type": "code",
   "execution_count": 54,
   "metadata": {},
   "outputs": [
    {
     "name": "stdout",
     "output_type": "stream",
     "text": [
      "Records in the DF: 17950045"
     ]
    }
   ],
   "source": [
    "countVectors = featurized_df.select('features','id')\n",
    "countVectors.persist()\n",
    "print('Records in the DF:', countVectors.count())"
   ]
  },
  {
   "cell_type": "markdown",
   "metadata": {},
   "source": [
    "Performing LDA"
   ]
  },
  {
   "cell_type": "code",
   "execution_count": 55,
   "metadata": {},
   "outputs": [],
   "source": [
    "lda = LDA(k=10, maxIter=5)\n",
    "model = lda.fit(countVectors)"
   ]
  },
  {
   "cell_type": "code",
   "execution_count": 56,
   "metadata": {},
   "outputs": [
    {
     "name": "stdout",
     "output_type": "stream",
     "text": [
      "topic:  0\n",
      "----------\n",
      "story\n",
      "good\n",
      "love\n",
      "read\n",
      "characters\n",
      "series\n",
      "author\n",
      "time\n",
      "world\n",
      "great\n",
      "----------\n",
      "topic:  1\n",
      "----------\n",
      "good\n",
      "read\n",
      "story\n",
      "great\n",
      "stars\n",
      "really\n",
      "like\n",
      "love\n",
      "series\n",
      "characters\n",
      "----------\n",
      "topic:  2\n",
      "----------\n",
      "read\n",
      "series\n",
      "books\n",
      "like\n",
      "great\n",
      "love\n",
      "reading\n",
      "story\n",
      "loved\n",
      "wait\n",
      "----------\n",
      "topic:  3\n",
      "----------\n",
      "story\n",
      "read\n",
      "love\n",
      "characters\n",
      "written\n",
      "like\n",
      "great\n",
      "novel\n",
      "way\n",
      "author\n",
      "----------\n",
      "topic:  4\n",
      "----------\n",
      "read\n",
      "good\n",
      "like\n",
      "great\n",
      "books\n",
      "reading\n",
      "easy\n",
      "new\n",
      "story\n",
      "author\n",
      "----------\n",
      "topic:  5\n",
      "----------\n",
      "read\n",
      "great\n",
      "time\n",
      "like\n",
      "life\n",
      "history\n",
      "reading\n",
      "good\n",
      "people\n",
      "know\n",
      "----------\n",
      "topic:  6\n",
      "----------\n",
      "read\n",
      "love\n",
      "loved\n",
      "series\n",
      "characters\n",
      "story\n",
      "reading\n",
      "great\n",
      "wait\n",
      "books\n",
      "----------\n",
      "topic:  7\n",
      "----------\n",
      "great\n",
      "read\n",
      "reading\n",
      "story\n",
      "series\n",
      "stars\n",
      "recommend\n",
      "forward\n",
      "life\n",
      "good\n",
      "----------\n",
      "topic:  8\n",
      "----------\n",
      "story\n",
      "love\n",
      "really\n",
      "life\n",
      "like\n",
      "read\n",
      "characters\n",
      "loved\n",
      "stars\n",
      "know\n",
      "----------\n",
      "topic:  9\n",
      "----------\n",
      "read\n",
      "good\n",
      "characters\n",
      "author\n",
      "story\n",
      "enjoyed\n",
      "books\n",
      "like\n",
      "great\n",
      "reading\n",
      "----------"
     ]
    }
   ],
   "source": [
    "topics = model.describeTopics()   \n",
    "topics_rdd = topics.rdd\n",
    "\n",
    "topics_words = topics_rdd\\\n",
    "       .map(lambda row: row['termIndices'])\\\n",
    "       .map(lambda idx_list: [vocab[idx] for idx in idx_list])\\\n",
    "       .collect()\n",
    "\n",
    "for idx, topic in enumerate(topics_words):\n",
    "    print (\"topic: \", idx)\n",
    "    print (\"----------\")\n",
    "    for word in topic:\n",
    "       print (word)\n",
    "    print (\"----------\")"
   ]
  },
  {
   "cell_type": "markdown",
   "metadata": {},
   "source": [
    "# 4.4. Does topic modeling provide good approximation to number of stars given in the review?"
   ]
  },
  {
   "cell_type": "markdown",
   "metadata": {},
   "source": [
    "We can see that there are some positive words even with reviews with star ratings less than 3. In this case topic modelling might not be so effective."
   ]
  }
 ],
 "metadata": {
  "kernelspec": {
   "display_name": "PySpark3",
   "language": "",
   "name": "pyspark3kernel"
  },
  "language_info": {
   "codemirror_mode": {
    "name": "python",
    "version": 3
   },
   "mimetype": "text/x-python",
   "name": "pyspark3",
   "pygments_lexer": "python3"
  }
 },
 "nbformat": 4,
 "nbformat_minor": 2
}
